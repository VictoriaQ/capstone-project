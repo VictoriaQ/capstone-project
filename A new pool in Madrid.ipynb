{
    "nbformat_minor": 1, 
    "cells": [
        {
            "source": "# A new swimming pool in Madrid\n\n## 1. Introduction\n\nMadrid, the capital of Spain, is well known for its busy streets, loud people, thousands of bars, tasty tapas, and never ending nightlife.\n\nDespite many positive, appealing, and very Spanish aspects, being close to the beach is not one of Madrid advantages. Summers in Madrid are hot and stuffy, and if you don't have a good outdoor pool nearby, surviving the season may become horrifyingly hard.\n\nIn this project we aim to find a good spot in the city to build a new olympic-size pool, where people can swim and cool off in the warmer months of the year.\n\nFinding that spot may be tricky. On the one hand, Madrid already has a good outdoors and recreational offer, with many green areas and a good amount of businesses similar to the one that we want to open up. On the other hand, as many in other European big cities, the central districts have being gentrified, rental prices have been skyrocketing in the last few years, and many neighborhoods are packed with tourists.\n\n\nOur goal is to find a place for the new pool that is well connected, placed in a good area, surrounded by residential buildings -instead of short-term rental accommodations-, with little competition around but good indicators for a business like ours. And, ideally, with an affordable rental price. We may be asking too much, but we can only try.\n\n\nIf we manage to meet the project goal, the result may be very interesting for anyone that wants to set up a new swimming pool in Madrid. \n\n## 2. Data\n\nWe are going to use the Foursquare API to inspect Madrid's neighborhoods and businesses, trying to get enough information about the characteristics of each area and the implicit advantages and disadvantages that each may have for our business.\n\nThis API will be our main source. More specifically, we will use it with three main objectives:\n\n* Locate the metro stations, that we will use as center points of our own custom \"neighborhoods\". The reason of using this approach is that we find those custom areas more appropriate for our purpose than the real districts of the city -they have a more similar size and can be used to divide Madrid in pretty regular grid where each square center is a convenient metro stop.\n\n* Find positive indicators in each neighborhood, such as similar or complementary businesses, like gyms or supermarkets, that can point to a residential area with the characteristics that we are looking for.\n\n* Find negative indicators in each neighborhood, such as businesses that can be sign of a very touristic area with expensive rental prices -i.e. ice cream stores or significative monuments-, or the opposite -an area with no similar businesses, few shops, and presumably poor expectations for a business like ours.\n\nAdditionally, we will use the accurate data collected in this popular Spanish [rental site](https://www.idealista.com/news/estadisticas/precio-linea-metro/madrid), in order to indentify which areas may be too expensive in spite of having other good indicators. The presentation of that data is quite convenient for us, since it also takes metro stations as the reference points, exactly as we are planning to do.\n\n\n\n", 
            "cell_type": "markdown", 
            "metadata": {
                "collapsed": true
            }
        }, 
        {
            "execution_count": null, 
            "cell_type": "code", 
            "metadata": {}, 
            "outputs": [], 
            "source": ""
        }
    ], 
    "metadata": {
        "kernelspec": {
            "display_name": "Python 3.6", 
            "name": "python3", 
            "language": "python"
        }, 
        "language_info": {
            "mimetype": "text/x-python", 
            "nbconvert_exporter": "python", 
            "version": "3.6.8", 
            "name": "python", 
            "file_extension": ".py", 
            "pygments_lexer": "ipython3", 
            "codemirror_mode": {
                "version": 3, 
                "name": "ipython"
            }
        }
    }, 
    "nbformat": 4
}