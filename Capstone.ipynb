{
    "nbformat_minor": 1, 
    "cells": [
        {
            "source": "This will be used for the the Capstone project (course Applied Data Science Capstone)", 
            "cell_type": "markdown", 
            "metadata": {
                "collapsed": true
            }
        }, 
        {
            "source": "import pandas as pd\nimport numpy as np\n\nprint(\"Hello Capstone Project Course!\")", 
            "cell_type": "code", 
            "metadata": {}, 
            "outputs": [
                {
                    "output_type": "stream", 
                    "name": "stdout", 
                    "text": "Hello Capstone Project Course!\n"
                }
            ], 
            "execution_count": 178
        }, 
        {
            "source": "page = 'https://en.wikipedia.org/wiki/List_of_postal_codes_of_Canada:_M'    \ndfs = pd.read_html(page, attrs={\"class\":\"wikitable\"})     \n\ndf = dfs[0]\n\ndf = df[1:]\ndf.columns = ['PostalCode', 'Borough', 'Neighborhood']\n\nindexNames = df[df.Borough == 'Not assigned'].index\ndf = df.drop(indexNames , inplace=False)\ndf = df.groupby(['PostalCode', 'Borough'])['Neighborhood'].apply(lambda x: ','.join(x)).reset_index()\ndf['Neighborhood'][df['Neighborhood'] == 'Not assigned'] = df.Borough\n\ndf", 
            "cell_type": "code", 
            "metadata": {}, 
            "outputs": [], 
            "execution_count": 182
        }, 
        {
            "source": "df.shape    \n    ", 
            "cell_type": "code", 
            "metadata": {}, 
            "outputs": [], 
            "execution_count": null
        }, 
        {
            "source": "", 
            "cell_type": "code", 
            "metadata": {}, 
            "outputs": [], 
            "execution_count": null
        }, 
        {
            "source": "", 
            "cell_type": "code", 
            "metadata": {}, 
            "outputs": [], 
            "execution_count": null
        }
    ], 
    "metadata": {
        "kernelspec": {
            "display_name": "Python 3.5", 
            "name": "python3", 
            "language": "python"
        }, 
        "language_info": {
            "mimetype": "text/x-python", 
            "nbconvert_exporter": "python", 
            "version": "3.5.5", 
            "name": "python", 
            "pygments_lexer": "ipython3", 
            "file_extension": ".py", 
            "codemirror_mode": {
                "version": 3, 
                "name": "ipython"
            }
        }
    }, 
    "nbformat": 4
}